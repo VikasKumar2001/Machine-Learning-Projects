{
 "cells": [
  {
   "cell_type": "code",
   "execution_count": 48,
   "id": "84456ef8",
   "metadata": {},
   "outputs": [],
   "source": [
    "import pandas as pd\n",
    "import numpy as np"
   ]
  },
  {
   "cell_type": "code",
   "execution_count": 49,
   "id": "8b84f204",
   "metadata": {},
   "outputs": [],
   "source": [
    "df=pd.read_csv('laptop_details.csv')"
   ]
  },
  {
   "cell_type": "code",
   "execution_count": 50,
   "id": "0f383e77",
   "metadata": {},
   "outputs": [
    {
     "data": {
      "text/html": [
       "<div>\n",
       "<style scoped>\n",
       "    .dataframe tbody tr th:only-of-type {\n",
       "        vertical-align: middle;\n",
       "    }\n",
       "\n",
       "    .dataframe tbody tr th {\n",
       "        vertical-align: top;\n",
       "    }\n",
       "\n",
       "    .dataframe thead th {\n",
       "        text-align: right;\n",
       "    }\n",
       "</style>\n",
       "<table border=\"1\" class=\"dataframe\">\n",
       "  <thead>\n",
       "    <tr style=\"text-align: right;\">\n",
       "      <th></th>\n",
       "      <th>Product</th>\n",
       "      <th>Rating</th>\n",
       "      <th>MRP</th>\n",
       "      <th>Feature</th>\n",
       "    </tr>\n",
       "  </thead>\n",
       "  <tbody>\n",
       "    <tr>\n",
       "      <th>0</th>\n",
       "      <td>Lenovo IdeaPad 3 Core i3 11th Gen - (8 GB/256 ...</td>\n",
       "      <td>4.2</td>\n",
       "      <td>₹36,990</td>\n",
       "      <td>Intel Core i3 Processor (11th Gen)8 GB DDR4 RA...</td>\n",
       "    </tr>\n",
       "    <tr>\n",
       "      <th>1</th>\n",
       "      <td>Lenovo IdeaPad 3 Core i3 11th Gen - (8 GB/512 ...</td>\n",
       "      <td>4.2</td>\n",
       "      <td>₹39,990</td>\n",
       "      <td>Intel Core i3 Processor (11th Gen)8 GB DDR4 RA...</td>\n",
       "    </tr>\n",
       "    <tr>\n",
       "      <th>2</th>\n",
       "      <td>ASUS VivoBook 15 (2022) Core i3 10th Gen - (8 ...</td>\n",
       "      <td>4.3</td>\n",
       "      <td>₹32,990</td>\n",
       "      <td>Intel Core i3 Processor (10th Gen)8 GB DDR4 RA...</td>\n",
       "    </tr>\n",
       "    <tr>\n",
       "      <th>3</th>\n",
       "      <td>HP Pavilion Ryzen 5 Hexa Core AMD R5-5600H - (...</td>\n",
       "      <td>4.4</td>\n",
       "      <td>₹49,990</td>\n",
       "      <td>AMD Ryzen 5 Hexa Core Processor8 GB DDR4 RAM64...</td>\n",
       "    </tr>\n",
       "    <tr>\n",
       "      <th>4</th>\n",
       "      <td>ASUS TUF Gaming F15 Core i5 10th Gen - (8 GB/5...</td>\n",
       "      <td>4.4</td>\n",
       "      <td>₹49,990</td>\n",
       "      <td>Intel Core i5 Processor (10th Gen)8 GB DDR4 RA...</td>\n",
       "    </tr>\n",
       "    <tr>\n",
       "      <th>5</th>\n",
       "      <td>HP 14s Intel Core i3 11th Gen - (8 GB/256 GB S...</td>\n",
       "      <td>4.2</td>\n",
       "      <td>₹36,990</td>\n",
       "      <td>Intel Core i3 Processor (11th Gen)8 GB DDR4 RA...</td>\n",
       "    </tr>\n",
       "    <tr>\n",
       "      <th>6</th>\n",
       "      <td>DELL Inspiron Core i3 11th Gen - (8 GB/1 TB HD...</td>\n",
       "      <td>4.3</td>\n",
       "      <td>₹38,990</td>\n",
       "      <td>Processor: Intel i3-1115G4 (Base- 1.70 GHz &amp; T...</td>\n",
       "    </tr>\n",
       "    <tr>\n",
       "      <th>7</th>\n",
       "      <td>RedmiBook Pro Core i5 11th Gen - (8 GB/512 GB ...</td>\n",
       "      <td>4.1</td>\n",
       "      <td>₹39,990</td>\n",
       "      <td>Intel Core i5 Processor (11th Gen)8 GB DDR4 RA...</td>\n",
       "    </tr>\n",
       "    <tr>\n",
       "      <th>8</th>\n",
       "      <td>realme Book (Slim) Core i3 11th Gen - (8 GB/25...</td>\n",
       "      <td>4.4</td>\n",
       "      <td>₹46,990</td>\n",
       "      <td>Stylish &amp; Portable Thin and Light Laptop14 inc...</td>\n",
       "    </tr>\n",
       "    <tr>\n",
       "      <th>9</th>\n",
       "      <td>ASUS VivoBook 14 (2022) Ryzen 7 Quad Core AMD ...</td>\n",
       "      <td>4.1</td>\n",
       "      <td>₹44,990</td>\n",
       "      <td>AMD Ryzen 7 Quad Core Processor16 GB DDR4 RAM6...</td>\n",
       "    </tr>\n",
       "  </tbody>\n",
       "</table>\n",
       "</div>"
      ],
      "text/plain": [
       "                                             Product  Rating      MRP  \\\n",
       "0  Lenovo IdeaPad 3 Core i3 11th Gen - (8 GB/256 ...     4.2  ₹36,990   \n",
       "1  Lenovo IdeaPad 3 Core i3 11th Gen - (8 GB/512 ...     4.2  ₹39,990   \n",
       "2  ASUS VivoBook 15 (2022) Core i3 10th Gen - (8 ...     4.3  ₹32,990   \n",
       "3  HP Pavilion Ryzen 5 Hexa Core AMD R5-5600H - (...     4.4  ₹49,990   \n",
       "4  ASUS TUF Gaming F15 Core i5 10th Gen - (8 GB/5...     4.4  ₹49,990   \n",
       "5  HP 14s Intel Core i3 11th Gen - (8 GB/256 GB S...     4.2  ₹36,990   \n",
       "6  DELL Inspiron Core i3 11th Gen - (8 GB/1 TB HD...     4.3  ₹38,990   \n",
       "7  RedmiBook Pro Core i5 11th Gen - (8 GB/512 GB ...     4.1  ₹39,990   \n",
       "8  realme Book (Slim) Core i3 11th Gen - (8 GB/25...     4.4  ₹46,990   \n",
       "9  ASUS VivoBook 14 (2022) Ryzen 7 Quad Core AMD ...     4.1  ₹44,990   \n",
       "\n",
       "                                             Feature  \n",
       "0  Intel Core i3 Processor (11th Gen)8 GB DDR4 RA...  \n",
       "1  Intel Core i3 Processor (11th Gen)8 GB DDR4 RA...  \n",
       "2  Intel Core i3 Processor (10th Gen)8 GB DDR4 RA...  \n",
       "3  AMD Ryzen 5 Hexa Core Processor8 GB DDR4 RAM64...  \n",
       "4  Intel Core i5 Processor (10th Gen)8 GB DDR4 RA...  \n",
       "5  Intel Core i3 Processor (11th Gen)8 GB DDR4 RA...  \n",
       "6  Processor: Intel i3-1115G4 (Base- 1.70 GHz & T...  \n",
       "7  Intel Core i5 Processor (11th Gen)8 GB DDR4 RA...  \n",
       "8  Stylish & Portable Thin and Light Laptop14 inc...  \n",
       "9  AMD Ryzen 7 Quad Core Processor16 GB DDR4 RAM6...  "
      ]
     },
     "execution_count": 50,
     "metadata": {},
     "output_type": "execute_result"
    }
   ],
   "source": [
    "df.head(10)"
   ]
  },
  {
   "cell_type": "code",
   "execution_count": 51,
   "id": "e536f4c9",
   "metadata": {},
   "outputs": [
    {
     "name": "stdout",
     "output_type": "stream",
     "text": [
      "<class 'pandas.core.frame.DataFrame'>\n",
      "RangeIndex: 720 entries, 0 to 719\n",
      "Data columns (total 4 columns):\n",
      " #   Column   Non-Null Count  Dtype  \n",
      "---  ------   --------------  -----  \n",
      " 0   Product  720 non-null    object \n",
      " 1   Rating   581 non-null    float64\n",
      " 2   MRP      720 non-null    object \n",
      " 3   Feature  720 non-null    object \n",
      "dtypes: float64(1), object(3)\n",
      "memory usage: 22.6+ KB\n"
     ]
    }
   ],
   "source": [
    "df.info()"
   ]
  },
  {
   "cell_type": "code",
   "execution_count": 52,
   "id": "82bd8adf",
   "metadata": {},
   "outputs": [
    {
     "data": {
      "text/plain": [
       "Product      0\n",
       "Rating     139\n",
       "MRP          0\n",
       "Feature      0\n",
       "dtype: int64"
      ]
     },
     "execution_count": 52,
     "metadata": {},
     "output_type": "execute_result"
    }
   ],
   "source": [
    "df.isnull().sum()"
   ]
  },
  {
   "cell_type": "code",
   "execution_count": 53,
   "id": "c259aa37",
   "metadata": {},
   "outputs": [
    {
     "data": {
      "text/plain": [
       "(720, 4)"
      ]
     },
     "execution_count": 53,
     "metadata": {},
     "output_type": "execute_result"
    }
   ],
   "source": [
    "df.shape"
   ]
  },
  {
   "cell_type": "code",
   "execution_count": 54,
   "id": "3a196680",
   "metadata": {},
   "outputs": [
    {
     "data": {
      "text/plain": [
       "0    Intel Core i3 Processor (11th Gen)8 GB DDR4 RA...\n",
       "1    Intel Core i3 Processor (11th Gen)8 GB DDR4 RA...\n",
       "2    Intel Core i3 Processor (10th Gen)8 GB DDR4 RA...\n",
       "3    AMD Ryzen 5 Hexa Core Processor8 GB DDR4 RAM64...\n",
       "4    Intel Core i5 Processor (10th Gen)8 GB DDR4 RA...\n",
       "Name: Feature, dtype: object"
      ]
     },
     "execution_count": 54,
     "metadata": {},
     "output_type": "execute_result"
    }
   ],
   "source": [
    "df['Feature'].head(5)"
   ]
  },
  {
   "cell_type": "code",
   "execution_count": 55,
   "id": "621fcf7a",
   "metadata": {},
   "outputs": [],
   "source": [
    "df1=df"
   ]
  },
  {
   "cell_type": "code",
   "execution_count": 56,
   "id": "3d4596c1",
   "metadata": {},
   "outputs": [
    {
     "data": {
      "text/html": [
       "<div>\n",
       "<style scoped>\n",
       "    .dataframe tbody tr th:only-of-type {\n",
       "        vertical-align: middle;\n",
       "    }\n",
       "\n",
       "    .dataframe tbody tr th {\n",
       "        vertical-align: top;\n",
       "    }\n",
       "\n",
       "    .dataframe thead th {\n",
       "        text-align: right;\n",
       "    }\n",
       "</style>\n",
       "<table border=\"1\" class=\"dataframe\">\n",
       "  <thead>\n",
       "    <tr style=\"text-align: right;\">\n",
       "      <th></th>\n",
       "      <th>Product</th>\n",
       "      <th>Rating</th>\n",
       "      <th>MRP</th>\n",
       "      <th>Feature</th>\n",
       "    </tr>\n",
       "  </thead>\n",
       "  <tbody>\n",
       "    <tr>\n",
       "      <th>0</th>\n",
       "      <td>Lenovo IdeaPad 3 Core i3 11th Gen - (8 GB/256 ...</td>\n",
       "      <td>4.2</td>\n",
       "      <td>₹36,990</td>\n",
       "      <td>Intel Core i3 Processor (11th Gen)8 GB DDR4 RA...</td>\n",
       "    </tr>\n",
       "    <tr>\n",
       "      <th>1</th>\n",
       "      <td>Lenovo IdeaPad 3 Core i3 11th Gen - (8 GB/512 ...</td>\n",
       "      <td>4.2</td>\n",
       "      <td>₹39,990</td>\n",
       "      <td>Intel Core i3 Processor (11th Gen)8 GB DDR4 RA...</td>\n",
       "    </tr>\n",
       "    <tr>\n",
       "      <th>2</th>\n",
       "      <td>ASUS VivoBook 15 (2022) Core i3 10th Gen - (8 ...</td>\n",
       "      <td>4.3</td>\n",
       "      <td>₹32,990</td>\n",
       "      <td>Intel Core i3 Processor (10th Gen)8 GB DDR4 RA...</td>\n",
       "    </tr>\n",
       "    <tr>\n",
       "      <th>3</th>\n",
       "      <td>HP Pavilion Ryzen 5 Hexa Core AMD R5-5600H - (...</td>\n",
       "      <td>4.4</td>\n",
       "      <td>₹49,990</td>\n",
       "      <td>AMD Ryzen 5 Hexa Core Processor8 GB DDR4 RAM64...</td>\n",
       "    </tr>\n",
       "    <tr>\n",
       "      <th>4</th>\n",
       "      <td>ASUS TUF Gaming F15 Core i5 10th Gen - (8 GB/5...</td>\n",
       "      <td>4.4</td>\n",
       "      <td>₹49,990</td>\n",
       "      <td>Intel Core i5 Processor (10th Gen)8 GB DDR4 RA...</td>\n",
       "    </tr>\n",
       "  </tbody>\n",
       "</table>\n",
       "</div>"
      ],
      "text/plain": [
       "                                             Product  Rating      MRP  \\\n",
       "0  Lenovo IdeaPad 3 Core i3 11th Gen - (8 GB/256 ...     4.2  ₹36,990   \n",
       "1  Lenovo IdeaPad 3 Core i3 11th Gen - (8 GB/512 ...     4.2  ₹39,990   \n",
       "2  ASUS VivoBook 15 (2022) Core i3 10th Gen - (8 ...     4.3  ₹32,990   \n",
       "3  HP Pavilion Ryzen 5 Hexa Core AMD R5-5600H - (...     4.4  ₹49,990   \n",
       "4  ASUS TUF Gaming F15 Core i5 10th Gen - (8 GB/5...     4.4  ₹49,990   \n",
       "\n",
       "                                             Feature  \n",
       "0  Intel Core i3 Processor (11th Gen)8 GB DDR4 RA...  \n",
       "1  Intel Core i3 Processor (11th Gen)8 GB DDR4 RA...  \n",
       "2  Intel Core i3 Processor (10th Gen)8 GB DDR4 RA...  \n",
       "3  AMD Ryzen 5 Hexa Core Processor8 GB DDR4 RAM64...  \n",
       "4  Intel Core i5 Processor (10th Gen)8 GB DDR4 RA...  "
      ]
     },
     "execution_count": 56,
     "metadata": {},
     "output_type": "execute_result"
    }
   ],
   "source": [
    "df1.head()"
   ]
  },
  {
   "cell_type": "code",
   "execution_count": 57,
   "id": "a85fddca",
   "metadata": {},
   "outputs": [],
   "source": [
    "import re"
   ]
  },
  {
   "cell_type": "code",
   "execution_count": 58,
   "id": "91ce4abc",
   "metadata": {},
   "outputs": [],
   "source": [
    "def extract_features(input_str):\n",
    "    ram = re.search(r'\\d+\\s+GB\\s+DDR\\d+\\s+RAM', input_str)\n",
    "    if ram:\n",
    "    \treturn ram.group(0)"
   ]
  },
  {
   "cell_type": "code",
   "execution_count": 59,
   "id": "6af45280",
   "metadata": {},
   "outputs": [],
   "source": [
    "df['RAM']=df['Feature'].apply(extract_features)"
   ]
  },
  {
   "cell_type": "code",
   "execution_count": 60,
   "id": "2e09980f",
   "metadata": {},
   "outputs": [],
   "source": [
    "def oss(input_str):\n",
    "    os = re.search(r'\\d+\\s+bit\\s+\\w+\\s+\\d+\\s+Operating System', input_str)\n",
    "    if os:\n",
    "        return os.group(0)"
   ]
  },
  {
   "cell_type": "code",
   "execution_count": 61,
   "id": "76bd942d",
   "metadata": {},
   "outputs": [],
   "source": [
    "df['Operating System']=df['Feature'].apply(oss)"
   ]
  },
  {
   "cell_type": "code",
   "execution_count": 62,
   "id": "d8da821a",
   "metadata": {},
   "outputs": [],
   "source": [
    "def sssd(input_str):\n",
    "    ssd = re.search(r'\\d+\\s+GB\\s+SSD', input_str)\n",
    "    if ssd:\n",
    "        return ssd.group(0)"
   ]
  },
  {
   "cell_type": "code",
   "execution_count": 63,
   "id": "097458ca",
   "metadata": {},
   "outputs": [],
   "source": [
    "df['SSD']=df['Feature'].apply(sssd)"
   ]
  },
  {
   "cell_type": "code",
   "execution_count": 64,
   "id": "0a40b88f",
   "metadata": {},
   "outputs": [],
   "source": [
    "def warrant(input_str):\n",
    "    war = re.search(r\"(\\d+ Year Onsite [a-zA-Z0-9 ]+Warranty)\", input_str)\n",
    "    if war:\n",
    "        return war.group(0)"
   ]
  },
  {
   "cell_type": "code",
   "execution_count": 65,
   "id": "da3612be",
   "metadata": {},
   "outputs": [],
   "source": [
    "df['Warranty']=df['Feature'].apply(warrant)"
   ]
  },
  {
   "cell_type": "code",
   "execution_count": 66,
   "id": "55a02c68",
   "metadata": {},
   "outputs": [
    {
     "data": {
      "text/html": [
       "<div>\n",
       "<style scoped>\n",
       "    .dataframe tbody tr th:only-of-type {\n",
       "        vertical-align: middle;\n",
       "    }\n",
       "\n",
       "    .dataframe tbody tr th {\n",
       "        vertical-align: top;\n",
       "    }\n",
       "\n",
       "    .dataframe thead th {\n",
       "        text-align: right;\n",
       "    }\n",
       "</style>\n",
       "<table border=\"1\" class=\"dataframe\">\n",
       "  <thead>\n",
       "    <tr style=\"text-align: right;\">\n",
       "      <th></th>\n",
       "      <th>Product</th>\n",
       "      <th>Rating</th>\n",
       "      <th>MRP</th>\n",
       "      <th>Feature</th>\n",
       "      <th>RAM</th>\n",
       "      <th>Operating System</th>\n",
       "      <th>SSD</th>\n",
       "      <th>Warranty</th>\n",
       "    </tr>\n",
       "  </thead>\n",
       "  <tbody>\n",
       "    <tr>\n",
       "      <th>0</th>\n",
       "      <td>Lenovo IdeaPad 3 Core i3 11th Gen - (8 GB/256 ...</td>\n",
       "      <td>4.2</td>\n",
       "      <td>₹36,990</td>\n",
       "      <td>Intel Core i3 Processor (11th Gen)8 GB DDR4 RA...</td>\n",
       "      <td>8 GB DDR4 RAM</td>\n",
       "      <td>64 bit Windows 11 Operating System</td>\n",
       "      <td>256 GB SSD</td>\n",
       "      <td>None</td>\n",
       "    </tr>\n",
       "    <tr>\n",
       "      <th>1</th>\n",
       "      <td>Lenovo IdeaPad 3 Core i3 11th Gen - (8 GB/512 ...</td>\n",
       "      <td>4.2</td>\n",
       "      <td>₹39,990</td>\n",
       "      <td>Intel Core i3 Processor (11th Gen)8 GB DDR4 RA...</td>\n",
       "      <td>8 GB DDR4 RAM</td>\n",
       "      <td>64 bit Windows 11 Operating System</td>\n",
       "      <td>512 GB SSD</td>\n",
       "      <td>None</td>\n",
       "    </tr>\n",
       "    <tr>\n",
       "      <th>2</th>\n",
       "      <td>ASUS VivoBook 15 (2022) Core i3 10th Gen - (8 ...</td>\n",
       "      <td>4.3</td>\n",
       "      <td>₹32,990</td>\n",
       "      <td>Intel Core i3 Processor (10th Gen)8 GB DDR4 RA...</td>\n",
       "      <td>8 GB DDR4 RAM</td>\n",
       "      <td>64 bit Windows 11 Operating System</td>\n",
       "      <td>512 GB SSD</td>\n",
       "      <td>None</td>\n",
       "    </tr>\n",
       "    <tr>\n",
       "      <th>3</th>\n",
       "      <td>HP Pavilion Ryzen 5 Hexa Core AMD R5-5600H - (...</td>\n",
       "      <td>4.4</td>\n",
       "      <td>₹49,990</td>\n",
       "      <td>AMD Ryzen 5 Hexa Core Processor8 GB DDR4 RAM64...</td>\n",
       "      <td>8 GB DDR4 RAM</td>\n",
       "      <td>64 bit Windows 10 Operating System</td>\n",
       "      <td>512 GB SSD</td>\n",
       "      <td>None</td>\n",
       "    </tr>\n",
       "    <tr>\n",
       "      <th>4</th>\n",
       "      <td>ASUS TUF Gaming F15 Core i5 10th Gen - (8 GB/5...</td>\n",
       "      <td>4.4</td>\n",
       "      <td>₹49,990</td>\n",
       "      <td>Intel Core i5 Processor (10th Gen)8 GB DDR4 RA...</td>\n",
       "      <td>8 GB DDR4 RAM</td>\n",
       "      <td>None</td>\n",
       "      <td>512 GB SSD</td>\n",
       "      <td>None</td>\n",
       "    </tr>\n",
       "    <tr>\n",
       "      <th>...</th>\n",
       "      <td>...</td>\n",
       "      <td>...</td>\n",
       "      <td>...</td>\n",
       "      <td>...</td>\n",
       "      <td>...</td>\n",
       "      <td>...</td>\n",
       "      <td>...</td>\n",
       "      <td>...</td>\n",
       "    </tr>\n",
       "    <tr>\n",
       "      <th>715</th>\n",
       "      <td>ASUS Chromebook Flip Touch Celeron Dual Core -...</td>\n",
       "      <td>4.0</td>\n",
       "      <td>₹23,490</td>\n",
       "      <td>Intel Celeron Dual Core Processor4 GB LPDDR4 R...</td>\n",
       "      <td>None</td>\n",
       "      <td>None</td>\n",
       "      <td>None</td>\n",
       "      <td>None</td>\n",
       "    </tr>\n",
       "    <tr>\n",
       "      <th>716</th>\n",
       "      <td>Lenovo IdeaPad Gaming 3 Ryzen 7 Octa Core AMD ...</td>\n",
       "      <td>4.5</td>\n",
       "      <td>₹73,490</td>\n",
       "      <td>AMD Ryzen 7 Octa Core Processor8 GB DDR4 RAM64...</td>\n",
       "      <td>8 GB DDR4 RAM</td>\n",
       "      <td>64 bit Windows 11 Operating System</td>\n",
       "      <td>512 GB SSD</td>\n",
       "      <td>None</td>\n",
       "    </tr>\n",
       "    <tr>\n",
       "      <th>717</th>\n",
       "      <td>ASUS ROG Zephyrus G15 Ryzen 9 Octa Core 6900HS...</td>\n",
       "      <td>NaN</td>\n",
       "      <td>₹1,94,990</td>\n",
       "      <td>AMD Ryzen 9 Octa Core Processor16 GB DDR5 RAM6...</td>\n",
       "      <td>16 GB DDR5 RAM</td>\n",
       "      <td>64 bit Windows 11 Operating System</td>\n",
       "      <td>None</td>\n",
       "      <td>None</td>\n",
       "    </tr>\n",
       "    <tr>\n",
       "      <th>718</th>\n",
       "      <td>ASUS Zenbook Flip 14 OLED (2022) Touch Panel C...</td>\n",
       "      <td>3.0</td>\n",
       "      <td>₹1,25,990</td>\n",
       "      <td>Intel Core i7 Processor (12th Gen)16 GB LPDDR5...</td>\n",
       "      <td>None</td>\n",
       "      <td>64 bit Windows 11 Operating System</td>\n",
       "      <td>512 GB SSD</td>\n",
       "      <td>None</td>\n",
       "    </tr>\n",
       "    <tr>\n",
       "      <th>719</th>\n",
       "      <td>Lenovo Ideapad Slim 3i Core i5 10th Gen - (8 G...</td>\n",
       "      <td>4.2</td>\n",
       "      <td>₹50,990</td>\n",
       "      <td>Intel Core i5 Processor (10th Gen)8 GB DDR4 RA...</td>\n",
       "      <td>8 GB DDR4 RAM</td>\n",
       "      <td>64 bit Windows 10 Operating System</td>\n",
       "      <td>256 GB SSD</td>\n",
       "      <td>None</td>\n",
       "    </tr>\n",
       "  </tbody>\n",
       "</table>\n",
       "<p>720 rows × 8 columns</p>\n",
       "</div>"
      ],
      "text/plain": [
       "                                               Product  Rating        MRP  \\\n",
       "0    Lenovo IdeaPad 3 Core i3 11th Gen - (8 GB/256 ...     4.2    ₹36,990   \n",
       "1    Lenovo IdeaPad 3 Core i3 11th Gen - (8 GB/512 ...     4.2    ₹39,990   \n",
       "2    ASUS VivoBook 15 (2022) Core i3 10th Gen - (8 ...     4.3    ₹32,990   \n",
       "3    HP Pavilion Ryzen 5 Hexa Core AMD R5-5600H - (...     4.4    ₹49,990   \n",
       "4    ASUS TUF Gaming F15 Core i5 10th Gen - (8 GB/5...     4.4    ₹49,990   \n",
       "..                                                 ...     ...        ...   \n",
       "715  ASUS Chromebook Flip Touch Celeron Dual Core -...     4.0    ₹23,490   \n",
       "716  Lenovo IdeaPad Gaming 3 Ryzen 7 Octa Core AMD ...     4.5    ₹73,490   \n",
       "717  ASUS ROG Zephyrus G15 Ryzen 9 Octa Core 6900HS...     NaN  ₹1,94,990   \n",
       "718  ASUS Zenbook Flip 14 OLED (2022) Touch Panel C...     3.0  ₹1,25,990   \n",
       "719  Lenovo Ideapad Slim 3i Core i5 10th Gen - (8 G...     4.2    ₹50,990   \n",
       "\n",
       "                                               Feature             RAM  \\\n",
       "0    Intel Core i3 Processor (11th Gen)8 GB DDR4 RA...   8 GB DDR4 RAM   \n",
       "1    Intel Core i3 Processor (11th Gen)8 GB DDR4 RA...   8 GB DDR4 RAM   \n",
       "2    Intel Core i3 Processor (10th Gen)8 GB DDR4 RA...   8 GB DDR4 RAM   \n",
       "3    AMD Ryzen 5 Hexa Core Processor8 GB DDR4 RAM64...   8 GB DDR4 RAM   \n",
       "4    Intel Core i5 Processor (10th Gen)8 GB DDR4 RA...   8 GB DDR4 RAM   \n",
       "..                                                 ...             ...   \n",
       "715  Intel Celeron Dual Core Processor4 GB LPDDR4 R...            None   \n",
       "716  AMD Ryzen 7 Octa Core Processor8 GB DDR4 RAM64...   8 GB DDR4 RAM   \n",
       "717  AMD Ryzen 9 Octa Core Processor16 GB DDR5 RAM6...  16 GB DDR5 RAM   \n",
       "718  Intel Core i7 Processor (12th Gen)16 GB LPDDR5...            None   \n",
       "719  Intel Core i5 Processor (10th Gen)8 GB DDR4 RA...   8 GB DDR4 RAM   \n",
       "\n",
       "                       Operating System         SSD Warranty  \n",
       "0    64 bit Windows 11 Operating System  256 GB SSD     None  \n",
       "1    64 bit Windows 11 Operating System  512 GB SSD     None  \n",
       "2    64 bit Windows 11 Operating System  512 GB SSD     None  \n",
       "3    64 bit Windows 10 Operating System  512 GB SSD     None  \n",
       "4                                  None  512 GB SSD     None  \n",
       "..                                  ...         ...      ...  \n",
       "715                                None        None     None  \n",
       "716  64 bit Windows 11 Operating System  512 GB SSD     None  \n",
       "717  64 bit Windows 11 Operating System        None     None  \n",
       "718  64 bit Windows 11 Operating System  512 GB SSD     None  \n",
       "719  64 bit Windows 10 Operating System  256 GB SSD     None  \n",
       "\n",
       "[720 rows x 8 columns]"
      ]
     },
     "execution_count": 66,
     "metadata": {},
     "output_type": "execute_result"
    }
   ],
   "source": [
    "df"
   ]
  },
  {
   "cell_type": "code",
   "execution_count": 67,
   "id": "63ba8709",
   "metadata": {},
   "outputs": [],
   "source": [
    "def process(input_str):\n",
    "    processor = re.search(r\"(Intel [a-zA-Z0-9 ]+ Processor)\", input_str)\n",
    "    if processor:\n",
    "        return processor.group(0)\n",
    "    processor = re.search(r\"(AMD [a-zA-Z0-9 ]+ Processor)\", input_str)\n",
    "    if processor:\n",
    "        return processor.group(0)"
   ]
  },
  {
   "cell_type": "code",
   "execution_count": 68,
   "id": "9d2e3c25",
   "metadata": {},
   "outputs": [],
   "source": [
    "df['Processor']=df['Feature'].apply(process)"
   ]
  },
  {
   "cell_type": "code",
   "execution_count": 69,
   "id": "56d29d7b",
   "metadata": {},
   "outputs": [
    {
     "data": {
      "text/html": [
       "<div>\n",
       "<style scoped>\n",
       "    .dataframe tbody tr th:only-of-type {\n",
       "        vertical-align: middle;\n",
       "    }\n",
       "\n",
       "    .dataframe tbody tr th {\n",
       "        vertical-align: top;\n",
       "    }\n",
       "\n",
       "    .dataframe thead th {\n",
       "        text-align: right;\n",
       "    }\n",
       "</style>\n",
       "<table border=\"1\" class=\"dataframe\">\n",
       "  <thead>\n",
       "    <tr style=\"text-align: right;\">\n",
       "      <th></th>\n",
       "      <th>Product</th>\n",
       "      <th>Rating</th>\n",
       "      <th>MRP</th>\n",
       "      <th>Feature</th>\n",
       "      <th>RAM</th>\n",
       "      <th>Operating System</th>\n",
       "      <th>SSD</th>\n",
       "      <th>Warranty</th>\n",
       "      <th>Processor</th>\n",
       "    </tr>\n",
       "  </thead>\n",
       "  <tbody>\n",
       "    <tr>\n",
       "      <th>0</th>\n",
       "      <td>Lenovo IdeaPad 3 Core i3 11th Gen - (8 GB/256 ...</td>\n",
       "      <td>4.2</td>\n",
       "      <td>₹36,990</td>\n",
       "      <td>Intel Core i3 Processor (11th Gen)8 GB DDR4 RA...</td>\n",
       "      <td>8 GB DDR4 RAM</td>\n",
       "      <td>64 bit Windows 11 Operating System</td>\n",
       "      <td>256 GB SSD</td>\n",
       "      <td>None</td>\n",
       "      <td>Intel Core i3 Processor</td>\n",
       "    </tr>\n",
       "    <tr>\n",
       "      <th>1</th>\n",
       "      <td>Lenovo IdeaPad 3 Core i3 11th Gen - (8 GB/512 ...</td>\n",
       "      <td>4.2</td>\n",
       "      <td>₹39,990</td>\n",
       "      <td>Intel Core i3 Processor (11th Gen)8 GB DDR4 RA...</td>\n",
       "      <td>8 GB DDR4 RAM</td>\n",
       "      <td>64 bit Windows 11 Operating System</td>\n",
       "      <td>512 GB SSD</td>\n",
       "      <td>None</td>\n",
       "      <td>Intel Core i3 Processor</td>\n",
       "    </tr>\n",
       "    <tr>\n",
       "      <th>2</th>\n",
       "      <td>ASUS VivoBook 15 (2022) Core i3 10th Gen - (8 ...</td>\n",
       "      <td>4.3</td>\n",
       "      <td>₹32,990</td>\n",
       "      <td>Intel Core i3 Processor (10th Gen)8 GB DDR4 RA...</td>\n",
       "      <td>8 GB DDR4 RAM</td>\n",
       "      <td>64 bit Windows 11 Operating System</td>\n",
       "      <td>512 GB SSD</td>\n",
       "      <td>None</td>\n",
       "      <td>Intel Core i3 Processor</td>\n",
       "    </tr>\n",
       "    <tr>\n",
       "      <th>3</th>\n",
       "      <td>HP Pavilion Ryzen 5 Hexa Core AMD R5-5600H - (...</td>\n",
       "      <td>4.4</td>\n",
       "      <td>₹49,990</td>\n",
       "      <td>AMD Ryzen 5 Hexa Core Processor8 GB DDR4 RAM64...</td>\n",
       "      <td>8 GB DDR4 RAM</td>\n",
       "      <td>64 bit Windows 10 Operating System</td>\n",
       "      <td>512 GB SSD</td>\n",
       "      <td>None</td>\n",
       "      <td>AMD Ryzen 5 Hexa Core Processor</td>\n",
       "    </tr>\n",
       "    <tr>\n",
       "      <th>4</th>\n",
       "      <td>ASUS TUF Gaming F15 Core i5 10th Gen - (8 GB/5...</td>\n",
       "      <td>4.4</td>\n",
       "      <td>₹49,990</td>\n",
       "      <td>Intel Core i5 Processor (10th Gen)8 GB DDR4 RA...</td>\n",
       "      <td>8 GB DDR4 RAM</td>\n",
       "      <td>None</td>\n",
       "      <td>512 GB SSD</td>\n",
       "      <td>None</td>\n",
       "      <td>Intel Core i5 Processor</td>\n",
       "    </tr>\n",
       "  </tbody>\n",
       "</table>\n",
       "</div>"
      ],
      "text/plain": [
       "                                             Product  Rating      MRP  \\\n",
       "0  Lenovo IdeaPad 3 Core i3 11th Gen - (8 GB/256 ...     4.2  ₹36,990   \n",
       "1  Lenovo IdeaPad 3 Core i3 11th Gen - (8 GB/512 ...     4.2  ₹39,990   \n",
       "2  ASUS VivoBook 15 (2022) Core i3 10th Gen - (8 ...     4.3  ₹32,990   \n",
       "3  HP Pavilion Ryzen 5 Hexa Core AMD R5-5600H - (...     4.4  ₹49,990   \n",
       "4  ASUS TUF Gaming F15 Core i5 10th Gen - (8 GB/5...     4.4  ₹49,990   \n",
       "\n",
       "                                             Feature            RAM  \\\n",
       "0  Intel Core i3 Processor (11th Gen)8 GB DDR4 RA...  8 GB DDR4 RAM   \n",
       "1  Intel Core i3 Processor (11th Gen)8 GB DDR4 RA...  8 GB DDR4 RAM   \n",
       "2  Intel Core i3 Processor (10th Gen)8 GB DDR4 RA...  8 GB DDR4 RAM   \n",
       "3  AMD Ryzen 5 Hexa Core Processor8 GB DDR4 RAM64...  8 GB DDR4 RAM   \n",
       "4  Intel Core i5 Processor (10th Gen)8 GB DDR4 RA...  8 GB DDR4 RAM   \n",
       "\n",
       "                     Operating System         SSD Warranty  \\\n",
       "0  64 bit Windows 11 Operating System  256 GB SSD     None   \n",
       "1  64 bit Windows 11 Operating System  512 GB SSD     None   \n",
       "2  64 bit Windows 11 Operating System  512 GB SSD     None   \n",
       "3  64 bit Windows 10 Operating System  512 GB SSD     None   \n",
       "4                                None  512 GB SSD     None   \n",
       "\n",
       "                         Processor  \n",
       "0          Intel Core i3 Processor  \n",
       "1          Intel Core i3 Processor  \n",
       "2          Intel Core i3 Processor  \n",
       "3  AMD Ryzen 5 Hexa Core Processor  \n",
       "4          Intel Core i5 Processor  "
      ]
     },
     "execution_count": 69,
     "metadata": {},
     "output_type": "execute_result"
    }
   ],
   "source": [
    "df.head()"
   ]
  },
  {
   "cell_type": "code",
   "execution_count": 70,
   "id": "ec31113f",
   "metadata": {},
   "outputs": [],
   "source": [
    "\n",
    "def dis(input_str):\n",
    "    display =  re.search(r'\\d+(\\.\\d+)?\\s+cm\\s+\\(\\d+(\\.\\d+)?\\s+inch\\)\\s+Display', input_str)\n",
    "    if display:\n",
    "        return display.group(0) \n",
    "    display = re.search(r\"(([a-zA-Z0-9])+ Display)\", input_str)\n",
    "    if display:\n",
    "        return display.group(0)"
   ]
  },
  {
   "cell_type": "code",
   "execution_count": 71,
   "id": "97cd0dc8",
   "metadata": {},
   "outputs": [],
   "source": [
    "df['Display']=df['Feature'].apply(dis)"
   ]
  },
  {
   "cell_type": "code",
   "execution_count": 72,
   "id": "a22c857a",
   "metadata": {},
   "outputs": [],
   "source": [
    "df.drop('Warranty',axis=1,inplace=True)"
   ]
  },
  {
   "cell_type": "code",
   "execution_count": 73,
   "id": "6a73b95c",
   "metadata": {},
   "outputs": [],
   "source": [
    "df['MRP']=df['MRP'].str.replace(',', '')\n",
    "df['MRP']=df['MRP'].str.replace('₹', '')"
   ]
  },
  {
   "cell_type": "code",
   "execution_count": 74,
   "id": "b23b0e4e",
   "metadata": {},
   "outputs": [],
   "source": [
    "df['MRP']=df['MRP'].astype('float32')"
   ]
  },
  {
   "cell_type": "code",
   "execution_count": 75,
   "id": "6b024854",
   "metadata": {},
   "outputs": [],
   "source": [
    "df.drop('Feature',axis=1,inplace=True)"
   ]
  },
  {
   "cell_type": "code",
   "execution_count": 76,
   "id": "16379dc1",
   "metadata": {},
   "outputs": [],
   "source": [
    "df['RAM']=df['RAM'].str.replace(' GB DDR4 RAM', '')\n",
    "df['RAM']=df['RAM'].str.replace(' GB DDR5 RAM', '')"
   ]
  },
  {
   "cell_type": "code",
   "execution_count": 77,
   "id": "952a236e",
   "metadata": {},
   "outputs": [],
   "source": [
    "df['RAM']=df['RAM'].astype('float64')"
   ]
  },
  {
   "cell_type": "code",
   "execution_count": 78,
   "id": "49e04254",
   "metadata": {},
   "outputs": [],
   "source": [
    "df['Operating System']=df['Operating System'].str.replace('bit Windows 11 Operating System', '')\n",
    "df['Operating System']=df['Operating System'].str.replace('bit Windows 10 Operating System', '')\n"
   ]
  },
  {
   "cell_type": "code",
   "execution_count": 79,
   "id": "6369b54a",
   "metadata": {},
   "outputs": [],
   "source": [
    "df['Operating System']=df['Operating System'].astype('float64')"
   ]
  },
  {
   "cell_type": "code",
   "execution_count": 80,
   "id": "39b27355",
   "metadata": {},
   "outputs": [],
   "source": [
    "df['SSD']=df['SSD'].str.replace(' GB SSD', '')"
   ]
  },
  {
   "cell_type": "code",
   "execution_count": 81,
   "id": "d705c662",
   "metadata": {},
   "outputs": [],
   "source": [
    "df['SSD']=df['SSD'].astype('float64')"
   ]
  },
  {
   "cell_type": "code",
   "execution_count": 82,
   "id": "e5a76e0b",
   "metadata": {},
   "outputs": [
    {
     "name": "stdout",
     "output_type": "stream",
     "text": [
      "<class 'pandas.core.frame.DataFrame'>\n",
      "RangeIndex: 720 entries, 0 to 719\n",
      "Data columns (total 8 columns):\n",
      " #   Column            Non-Null Count  Dtype  \n",
      "---  ------            --------------  -----  \n",
      " 0   Product           720 non-null    object \n",
      " 1   Rating            581 non-null    float64\n",
      " 2   MRP               720 non-null    float32\n",
      " 3   RAM               653 non-null    float64\n",
      " 4   Operating System  522 non-null    float64\n",
      " 5   SSD               510 non-null    float64\n",
      " 6   Processor         700 non-null    object \n",
      " 7   Display           525 non-null    object \n",
      "dtypes: float32(1), float64(4), object(3)\n",
      "memory usage: 42.3+ KB\n"
     ]
    }
   ],
   "source": [
    "df.info()"
   ]
  },
  {
   "cell_type": "code",
   "execution_count": 83,
   "id": "8929f63b",
   "metadata": {},
   "outputs": [
    {
     "data": {
      "text/html": [
       "<div>\n",
       "<style scoped>\n",
       "    .dataframe tbody tr th:only-of-type {\n",
       "        vertical-align: middle;\n",
       "    }\n",
       "\n",
       "    .dataframe tbody tr th {\n",
       "        vertical-align: top;\n",
       "    }\n",
       "\n",
       "    .dataframe thead th {\n",
       "        text-align: right;\n",
       "    }\n",
       "</style>\n",
       "<table border=\"1\" class=\"dataframe\">\n",
       "  <thead>\n",
       "    <tr style=\"text-align: right;\">\n",
       "      <th></th>\n",
       "      <th>Rating</th>\n",
       "      <th>MRP</th>\n",
       "      <th>RAM</th>\n",
       "      <th>Operating System</th>\n",
       "      <th>SSD</th>\n",
       "    </tr>\n",
       "  </thead>\n",
       "  <tbody>\n",
       "    <tr>\n",
       "      <th>count</th>\n",
       "      <td>581.000000</td>\n",
       "      <td>720.000000</td>\n",
       "      <td>653.000000</td>\n",
       "      <td>522.000000</td>\n",
       "      <td>510.000000</td>\n",
       "    </tr>\n",
       "    <tr>\n",
       "      <th>mean</th>\n",
       "      <td>4.321170</td>\n",
       "      <td>81606.281250</td>\n",
       "      <td>11.209801</td>\n",
       "      <td>63.938697</td>\n",
       "      <td>443.231373</td>\n",
       "    </tr>\n",
       "    <tr>\n",
       "      <th>std</th>\n",
       "      <td>0.282872</td>\n",
       "      <td>61552.953125</td>\n",
       "      <td>5.113476</td>\n",
       "      <td>1.400602</td>\n",
       "      <td>116.933601</td>\n",
       "    </tr>\n",
       "    <tr>\n",
       "      <th>min</th>\n",
       "      <td>3.000000</td>\n",
       "      <td>14990.000000</td>\n",
       "      <td>4.000000</td>\n",
       "      <td>32.000000</td>\n",
       "      <td>128.000000</td>\n",
       "    </tr>\n",
       "    <tr>\n",
       "      <th>25%</th>\n",
       "      <td>4.200000</td>\n",
       "      <td>38996.750000</td>\n",
       "      <td>8.000000</td>\n",
       "      <td>64.000000</td>\n",
       "      <td>256.000000</td>\n",
       "    </tr>\n",
       "    <tr>\n",
       "      <th>50%</th>\n",
       "      <td>4.300000</td>\n",
       "      <td>59990.000000</td>\n",
       "      <td>8.000000</td>\n",
       "      <td>64.000000</td>\n",
       "      <td>512.000000</td>\n",
       "    </tr>\n",
       "    <tr>\n",
       "      <th>75%</th>\n",
       "      <td>4.500000</td>\n",
       "      <td>95240.000000</td>\n",
       "      <td>16.000000</td>\n",
       "      <td>64.000000</td>\n",
       "      <td>512.000000</td>\n",
       "    </tr>\n",
       "    <tr>\n",
       "      <th>max</th>\n",
       "      <td>5.000000</td>\n",
       "      <td>434830.000000</td>\n",
       "      <td>32.000000</td>\n",
       "      <td>64.000000</td>\n",
       "      <td>512.000000</td>\n",
       "    </tr>\n",
       "  </tbody>\n",
       "</table>\n",
       "</div>"
      ],
      "text/plain": [
       "           Rating            MRP         RAM  Operating System         SSD\n",
       "count  581.000000     720.000000  653.000000        522.000000  510.000000\n",
       "mean     4.321170   81606.281250   11.209801         63.938697  443.231373\n",
       "std      0.282872   61552.953125    5.113476          1.400602  116.933601\n",
       "min      3.000000   14990.000000    4.000000         32.000000  128.000000\n",
       "25%      4.200000   38996.750000    8.000000         64.000000  256.000000\n",
       "50%      4.300000   59990.000000    8.000000         64.000000  512.000000\n",
       "75%      4.500000   95240.000000   16.000000         64.000000  512.000000\n",
       "max      5.000000  434830.000000   32.000000         64.000000  512.000000"
      ]
     },
     "execution_count": 83,
     "metadata": {},
     "output_type": "execute_result"
    }
   ],
   "source": [
    "df.describe()"
   ]
  },
  {
   "cell_type": "code",
   "execution_count": 84,
   "id": "42be4476",
   "metadata": {},
   "outputs": [
    {
     "data": {
      "text/plain": [
       "Product               0\n",
       "Rating              139\n",
       "MRP                   0\n",
       "RAM                  67\n",
       "Operating System    198\n",
       "SSD                 210\n",
       "Processor            20\n",
       "Display             195\n",
       "dtype: int64"
      ]
     },
     "execution_count": 84,
     "metadata": {},
     "output_type": "execute_result"
    }
   ],
   "source": [
    "df.isnull().sum()"
   ]
  },
  {
   "cell_type": "code",
   "execution_count": 85,
   "id": "3c374345",
   "metadata": {},
   "outputs": [],
   "source": [
    "df['Rating'].fillna(value=df['Rating'].median(),inplace=True)"
   ]
  },
  {
   "cell_type": "code",
   "execution_count": 86,
   "id": "fe93f7df",
   "metadata": {},
   "outputs": [],
   "source": [
    "df['RAM'].fillna(value=df['RAM'].median(),inplace=True)"
   ]
  },
  {
   "cell_type": "code",
   "execution_count": 87,
   "id": "5523bad6",
   "metadata": {},
   "outputs": [],
   "source": [
    "df['Operating System'].fillna(value=df['Operating System'].median(),inplace=True)"
   ]
  },
  {
   "cell_type": "code",
   "execution_count": 88,
   "id": "0693e9c0",
   "metadata": {},
   "outputs": [],
   "source": [
    "df['SSD'].fillna(value=df['SSD'].median(),inplace=True)"
   ]
  },
  {
   "cell_type": "code",
   "execution_count": 89,
   "id": "ab3797ae",
   "metadata": {},
   "outputs": [
    {
     "data": {
      "text/plain": [
       "Product               0\n",
       "Rating                0\n",
       "MRP                   0\n",
       "RAM                   0\n",
       "Operating System      0\n",
       "SSD                   0\n",
       "Processor            20\n",
       "Display             195\n",
       "dtype: int64"
      ]
     },
     "execution_count": 89,
     "metadata": {},
     "output_type": "execute_result"
    }
   ],
   "source": [
    "df.isnull().sum()"
   ]
  },
  {
   "cell_type": "code",
   "execution_count": 90,
   "id": "baec2749",
   "metadata": {},
   "outputs": [],
   "source": [
    "df['Display']=df['Display'].str.replace('Display', '')"
   ]
  },
  {
   "cell_type": "code",
   "execution_count": 92,
   "id": "8a0e9df2",
   "metadata": {},
   "outputs": [],
   "source": [
    "from sklearn.preprocessing import LabelEncoder"
   ]
  },
  {
   "cell_type": "code",
   "execution_count": 93,
   "id": "21e1efc7",
   "metadata": {},
   "outputs": [],
   "source": [
    "encoder=LabelEncoder()"
   ]
  },
  {
   "cell_type": "code",
   "execution_count": 94,
   "id": "e21a69bf",
   "metadata": {},
   "outputs": [
    {
     "data": {
      "text/html": [
       "<div>\n",
       "<style scoped>\n",
       "    .dataframe tbody tr th:only-of-type {\n",
       "        vertical-align: middle;\n",
       "    }\n",
       "\n",
       "    .dataframe tbody tr th {\n",
       "        vertical-align: top;\n",
       "    }\n",
       "\n",
       "    .dataframe thead th {\n",
       "        text-align: right;\n",
       "    }\n",
       "</style>\n",
       "<table border=\"1\" class=\"dataframe\">\n",
       "  <thead>\n",
       "    <tr style=\"text-align: right;\">\n",
       "      <th></th>\n",
       "      <th>Product</th>\n",
       "      <th>Rating</th>\n",
       "      <th>MRP</th>\n",
       "      <th>RAM</th>\n",
       "      <th>Operating System</th>\n",
       "      <th>SSD</th>\n",
       "      <th>Processor</th>\n",
       "      <th>Display</th>\n",
       "    </tr>\n",
       "  </thead>\n",
       "  <tbody>\n",
       "    <tr>\n",
       "      <th>0</th>\n",
       "      <td>Lenovo IdeaPad 3 Core i3 11th Gen - (8 GB/256 ...</td>\n",
       "      <td>4.2</td>\n",
       "      <td>36990.0</td>\n",
       "      <td>8.0</td>\n",
       "      <td>64.0</td>\n",
       "      <td>256.0</td>\n",
       "      <td>Intel Core i3 Processor</td>\n",
       "      <td>35.56 cm (14 inch)</td>\n",
       "    </tr>\n",
       "    <tr>\n",
       "      <th>1</th>\n",
       "      <td>Lenovo IdeaPad 3 Core i3 11th Gen - (8 GB/512 ...</td>\n",
       "      <td>4.2</td>\n",
       "      <td>39990.0</td>\n",
       "      <td>8.0</td>\n",
       "      <td>64.0</td>\n",
       "      <td>512.0</td>\n",
       "      <td>Intel Core i3 Processor</td>\n",
       "      <td>39.62 cm (15.6 inch)</td>\n",
       "    </tr>\n",
       "    <tr>\n",
       "      <th>2</th>\n",
       "      <td>ASUS VivoBook 15 (2022) Core i3 10th Gen - (8 ...</td>\n",
       "      <td>4.3</td>\n",
       "      <td>32990.0</td>\n",
       "      <td>8.0</td>\n",
       "      <td>64.0</td>\n",
       "      <td>512.0</td>\n",
       "      <td>Intel Core i3 Processor</td>\n",
       "      <td>39.62 cm (15.6 inch)</td>\n",
       "    </tr>\n",
       "    <tr>\n",
       "      <th>3</th>\n",
       "      <td>HP Pavilion Ryzen 5 Hexa Core AMD R5-5600H - (...</td>\n",
       "      <td>4.4</td>\n",
       "      <td>49990.0</td>\n",
       "      <td>8.0</td>\n",
       "      <td>64.0</td>\n",
       "      <td>512.0</td>\n",
       "      <td>AMD Ryzen 5 Hexa Core Processor</td>\n",
       "      <td>39.62 cm (15.6 inch)</td>\n",
       "    </tr>\n",
       "    <tr>\n",
       "      <th>4</th>\n",
       "      <td>ASUS TUF Gaming F15 Core i5 10th Gen - (8 GB/5...</td>\n",
       "      <td>4.4</td>\n",
       "      <td>49990.0</td>\n",
       "      <td>8.0</td>\n",
       "      <td>64.0</td>\n",
       "      <td>512.0</td>\n",
       "      <td>Intel Core i5 Processor</td>\n",
       "      <td>39.62 cm (15.6 inch)</td>\n",
       "    </tr>\n",
       "  </tbody>\n",
       "</table>\n",
       "</div>"
      ],
      "text/plain": [
       "                                             Product  Rating      MRP  RAM  \\\n",
       "0  Lenovo IdeaPad 3 Core i3 11th Gen - (8 GB/256 ...     4.2  36990.0  8.0   \n",
       "1  Lenovo IdeaPad 3 Core i3 11th Gen - (8 GB/512 ...     4.2  39990.0  8.0   \n",
       "2  ASUS VivoBook 15 (2022) Core i3 10th Gen - (8 ...     4.3  32990.0  8.0   \n",
       "3  HP Pavilion Ryzen 5 Hexa Core AMD R5-5600H - (...     4.4  49990.0  8.0   \n",
       "4  ASUS TUF Gaming F15 Core i5 10th Gen - (8 GB/5...     4.4  49990.0  8.0   \n",
       "\n",
       "   Operating System    SSD                        Processor  \\\n",
       "0              64.0  256.0          Intel Core i3 Processor   \n",
       "1              64.0  512.0          Intel Core i3 Processor   \n",
       "2              64.0  512.0          Intel Core i3 Processor   \n",
       "3              64.0  512.0  AMD Ryzen 5 Hexa Core Processor   \n",
       "4              64.0  512.0          Intel Core i5 Processor   \n",
       "\n",
       "                 Display  \n",
       "0    35.56 cm (14 inch)   \n",
       "1  39.62 cm (15.6 inch)   \n",
       "2  39.62 cm (15.6 inch)   \n",
       "3  39.62 cm (15.6 inch)   \n",
       "4  39.62 cm (15.6 inch)   "
      ]
     },
     "execution_count": 94,
     "metadata": {},
     "output_type": "execute_result"
    }
   ],
   "source": [
    "df.head()"
   ]
  },
  {
   "cell_type": "code",
   "execution_count": 95,
   "id": "a97e44cf",
   "metadata": {},
   "outputs": [],
   "source": [
    "import matplotlib.pyplot as plt\n",
    "import seaborn as sns"
   ]
  },
  {
   "cell_type": "code",
   "execution_count": 96,
   "id": "19ec700b",
   "metadata": {},
   "outputs": [
    {
     "data": {
      "text/html": [
       "<div>\n",
       "<style scoped>\n",
       "    .dataframe tbody tr th:only-of-type {\n",
       "        vertical-align: middle;\n",
       "    }\n",
       "\n",
       "    .dataframe tbody tr th {\n",
       "        vertical-align: top;\n",
       "    }\n",
       "\n",
       "    .dataframe thead th {\n",
       "        text-align: right;\n",
       "    }\n",
       "</style>\n",
       "<table border=\"1\" class=\"dataframe\">\n",
       "  <thead>\n",
       "    <tr style=\"text-align: right;\">\n",
       "      <th></th>\n",
       "      <th>Rating</th>\n",
       "      <th>MRP</th>\n",
       "      <th>RAM</th>\n",
       "      <th>Operating System</th>\n",
       "      <th>SSD</th>\n",
       "    </tr>\n",
       "  </thead>\n",
       "  <tbody>\n",
       "    <tr>\n",
       "      <th>Rating</th>\n",
       "      <td>1.000000</td>\n",
       "      <td>0.331737</td>\n",
       "      <td>0.287135</td>\n",
       "      <td>0.017189</td>\n",
       "      <td>0.051426</td>\n",
       "    </tr>\n",
       "    <tr>\n",
       "      <th>MRP</th>\n",
       "      <td>0.331737</td>\n",
       "      <td>1.000000</td>\n",
       "      <td>0.747195</td>\n",
       "      <td>0.025838</td>\n",
       "      <td>0.292114</td>\n",
       "    </tr>\n",
       "    <tr>\n",
       "      <th>RAM</th>\n",
       "      <td>0.287135</td>\n",
       "      <td>0.747195</td>\n",
       "      <td>1.000000</td>\n",
       "      <td>0.021912</td>\n",
       "      <td>0.305247</td>\n",
       "    </tr>\n",
       "    <tr>\n",
       "      <th>Operating System</th>\n",
       "      <td>0.017189</td>\n",
       "      <td>0.025838</td>\n",
       "      <td>0.021912</td>\n",
       "      <td>1.000000</td>\n",
       "      <td>-0.017609</td>\n",
       "    </tr>\n",
       "    <tr>\n",
       "      <th>SSD</th>\n",
       "      <td>0.051426</td>\n",
       "      <td>0.292114</td>\n",
       "      <td>0.305247</td>\n",
       "      <td>-0.017609</td>\n",
       "      <td>1.000000</td>\n",
       "    </tr>\n",
       "  </tbody>\n",
       "</table>\n",
       "</div>"
      ],
      "text/plain": [
       "                    Rating       MRP       RAM  Operating System       SSD\n",
       "Rating            1.000000  0.331737  0.287135          0.017189  0.051426\n",
       "MRP               0.331737  1.000000  0.747195          0.025838  0.292114\n",
       "RAM               0.287135  0.747195  1.000000          0.021912  0.305247\n",
       "Operating System  0.017189  0.025838  0.021912          1.000000 -0.017609\n",
       "SSD               0.051426  0.292114  0.305247         -0.017609  1.000000"
      ]
     },
     "execution_count": 96,
     "metadata": {},
     "output_type": "execute_result"
    }
   ],
   "source": [
    "df.corr()"
   ]
  },
  {
   "cell_type": "code",
   "execution_count": 97,
   "id": "5e9e5e60",
   "metadata": {},
   "outputs": [
    {
     "data": {
      "text/plain": [
       "<AxesSubplot:xlabel='RAM', ylabel='MRP'>"
      ]
     },
     "execution_count": 97,
     "metadata": {},
     "output_type": "execute_result"
    },
    {
     "data": {
      "image/png": "[encoded data removed]",
      "text/plain": [
       "<Figure size 640x480 with 1 Axes>"
      ]
     },
     "metadata": {},
     "output_type": "display_data"
    }
   ],
   "source": [
    "sns.scatterplot(x='RAM',y='MRP',data=df)"
   ]
  },
  {
   "cell_type": "code",
   "execution_count": 104,
   "id": "21ea162d",
   "metadata": {},
   "outputs": [
    {
     "data": {
      "text/plain": [
       "<AxesSubplot:xlabel='RAM', ylabel='Operating System'>"
      ]
     },
     "execution_count": 104,
     "metadata": {},
     "output_type": "execute_result"
    },
    {
     "data": {
      "image/png": "[encoded data removed]",
      "text/plain": [
       "<Figure size 640x480 with 1 Axes>"
      ]
     },
     "metadata": {},
     "output_type": "display_data"
    }
   ],
   "source": [
    "sns.barplot(x='RAM',y='Operating System',data=df)"
   ]
  },
  {
   "cell_type": "code",
   "execution_count": 105,
   "id": "4c609d0a",
   "metadata": {},
   "outputs": [
    {
     "data": {
      "text/plain": [
       "<seaborn.axisgrid.JointGrid at 0x19889f20400>"
      ]
     },
     "execution_count": 105,
     "metadata": {},
     "output_type": "execute_result"
    },
    {
     "data": {
      "image/png": "[encoded data removed]",
      "text/plain": [
       "<Figure size 600x600 with 3 Axes>"
      ]
     },
     "metadata": {},
     "output_type": "display_data"
    }
   ],
   "source": [
    "sns.jointplot(x='Rating',y='MRP',data=df)"
   ]
  },
  {
   "cell_type": "code",
   "execution_count": 106,
   "id": "39119373",
   "metadata": {},
   "outputs": [
    {
     "data": {
      "text/plain": [
       "<seaborn.axisgrid.JointGrid at 0x1988c5a9c10>"
      ]
     },
     "execution_count": 106,
     "metadata": {},
     "output_type": "execute_result"
    },
    {
     "data": {
      "image/png": "[encoded data removed]",
      "text/plain": [
       "<Figure size 600x600 with 3 Axes>"
      ]
     },
     "metadata": {},
     "output_type": "display_data"
    }
   ],
   "source": [
    "sns.jointplot(x='SSD',y='MRP',data=df)"
   ]
  },
  {
   "cell_type": "code",
   "execution_count": 107,
   "id": "4cf479c6",
   "metadata": {},
   "outputs": [
    {
     "data": {
      "text/plain": [
       "<AxesSubplot:>"
      ]
     },
     "execution_count": 107,
     "metadata": {},
     "output_type": "execute_result"
    },
    {
     "data": {
      "image/png": "[encoded data removed]",
      "text/plain": [
       "<Figure size 640x480 with 1 Axes>"
      ]
     },
     "metadata": {},
     "output_type": "display_data"
    }
   ],
   "source": [
    "df.MRP.plot(kind='box')"
   ]
  },
  {
   "cell_type": "code",
   "execution_count": 108,
   "id": "e76f203a",
   "metadata": {},
   "outputs": [],
   "source": [
    "df1 = df.MRP.apply(np.log1p)"
   ]
  },
  {
   "cell_type": "code",
   "execution_count": 110,
   "id": "3a7accdd",
   "metadata": {},
   "outputs": [
    {
     "data": {
      "text/plain": [
       "<AxesSubplot:>"
      ]
     },
     "execution_count": 110,
     "metadata": {},
     "output_type": "execute_result"
    },
    {
     "data": {
      "image/png": "[encoded data removed]",
      "text/plain": [
       "<Figure size 640x480 with 1 Axes>"
      ]
     },
     "metadata": {},
     "output_type": "display_data"
    }
   ],
   "source": [
    "df.plot(kind='box')"
   ]
  },
  {
   "cell_type": "code",
   "execution_count": 111,
   "id": "ddb5ac10",
   "metadata": {},
   "outputs": [
    {
     "data": {
      "text/plain": [
       "<AxesSubplot:>"
      ]
     },
     "execution_count": 111,
     "metadata": {},
     "output_type": "execute_result"
    },
    {
     "data": {
      "image/png": "[encoded data removed]",
      "text/plain": [
       "<Figure size 640x480 with 1 Axes>"
      ]
     },
     "metadata": {},
     "output_type": "display_data"
    }
   ],
   "source": [
    "df1.plot(kind='box')"
   ]
  },
  {
   "cell_type": "code",
   "execution_count": 112,
   "id": "818c4c0b",
   "metadata": {},
   "outputs": [
    {
     "data": {
      "text/plain": [
       "<AxesSubplot:ylabel='Density'>"
      ]
     },
     "execution_count": 112,
     "metadata": {},
     "output_type": "execute_result"
    },
    {
     "data": {
      "image/png": "[encoded data removed]",
      "text/plain": [
       "<Figure size 640x480 with 1 Axes>"
      ]
     },
     "metadata": {},
     "output_type": "display_data"
    }
   ],
   "source": [
    "df1.plot(kind='kde')"
   ]
  },
  {
   "cell_type": "code",
   "execution_count": 113,
   "id": "1f4afeb0",
   "metadata": {},
   "outputs": [
    {
     "data": {
      "text/html": [
       "<div>\n",
       "<style scoped>\n",
       "    .dataframe tbody tr th:only-of-type {\n",
       "        vertical-align: middle;\n",
       "    }\n",
       "\n",
       "    .dataframe tbody tr th {\n",
       "        vertical-align: top;\n",
       "    }\n",
       "\n",
       "    .dataframe thead th {\n",
       "        text-align: right;\n",
       "    }\n",
       "</style>\n",
       "<table border=\"1\" class=\"dataframe\">\n",
       "  <thead>\n",
       "    <tr style=\"text-align: right;\">\n",
       "      <th></th>\n",
       "      <th>Product</th>\n",
       "      <th>Rating</th>\n",
       "      <th>MRP</th>\n",
       "      <th>RAM</th>\n",
       "      <th>Operating System</th>\n",
       "      <th>SSD</th>\n",
       "      <th>Processor</th>\n",
       "      <th>Display</th>\n",
       "    </tr>\n",
       "  </thead>\n",
       "  <tbody>\n",
       "    <tr>\n",
       "      <th>0</th>\n",
       "      <td>Lenovo IdeaPad 3 Core i3 11th Gen - (8 GB/256 ...</td>\n",
       "      <td>4.2</td>\n",
       "      <td>36990.0</td>\n",
       "      <td>8.0</td>\n",
       "      <td>64.0</td>\n",
       "      <td>256.0</td>\n",
       "      <td>Intel Core i3 Processor</td>\n",
       "      <td>35.56 cm (14 inch)</td>\n",
       "    </tr>\n",
       "    <tr>\n",
       "      <th>1</th>\n",
       "      <td>Lenovo IdeaPad 3 Core i3 11th Gen - (8 GB/512 ...</td>\n",
       "      <td>4.2</td>\n",
       "      <td>39990.0</td>\n",
       "      <td>8.0</td>\n",
       "      <td>64.0</td>\n",
       "      <td>512.0</td>\n",
       "      <td>Intel Core i3 Processor</td>\n",
       "      <td>39.62 cm (15.6 inch)</td>\n",
       "    </tr>\n",
       "    <tr>\n",
       "      <th>2</th>\n",
       "      <td>ASUS VivoBook 15 (2022) Core i3 10th Gen - (8 ...</td>\n",
       "      <td>4.3</td>\n",
       "      <td>32990.0</td>\n",
       "      <td>8.0</td>\n",
       "      <td>64.0</td>\n",
       "      <td>512.0</td>\n",
       "      <td>Intel Core i3 Processor</td>\n",
       "      <td>39.62 cm (15.6 inch)</td>\n",
       "    </tr>\n",
       "    <tr>\n",
       "      <th>3</th>\n",
       "      <td>HP Pavilion Ryzen 5 Hexa Core AMD R5-5600H - (...</td>\n",
       "      <td>4.4</td>\n",
       "      <td>49990.0</td>\n",
       "      <td>8.0</td>\n",
       "      <td>64.0</td>\n",
       "      <td>512.0</td>\n",
       "      <td>AMD Ryzen 5 Hexa Core Processor</td>\n",
       "      <td>39.62 cm (15.6 inch)</td>\n",
       "    </tr>\n",
       "    <tr>\n",
       "      <th>4</th>\n",
       "      <td>ASUS TUF Gaming F15 Core i5 10th Gen - (8 GB/5...</td>\n",
       "      <td>4.4</td>\n",
       "      <td>49990.0</td>\n",
       "      <td>8.0</td>\n",
       "      <td>64.0</td>\n",
       "      <td>512.0</td>\n",
       "      <td>Intel Core i5 Processor</td>\n",
       "      <td>39.62 cm (15.6 inch)</td>\n",
       "    </tr>\n",
       "  </tbody>\n",
       "</table>\n",
       "</div>"
      ],
      "text/plain": [
       "                                             Product  Rating      MRP  RAM  \\\n",
       "0  Lenovo IdeaPad 3 Core i3 11th Gen - (8 GB/256 ...     4.2  36990.0  8.0   \n",
       "1  Lenovo IdeaPad 3 Core i3 11th Gen - (8 GB/512 ...     4.2  39990.0  8.0   \n",
       "2  ASUS VivoBook 15 (2022) Core i3 10th Gen - (8 ...     4.3  32990.0  8.0   \n",
       "3  HP Pavilion Ryzen 5 Hexa Core AMD R5-5600H - (...     4.4  49990.0  8.0   \n",
       "4  ASUS TUF Gaming F15 Core i5 10th Gen - (8 GB/5...     4.4  49990.0  8.0   \n",
       "\n",
       "   Operating System    SSD                        Processor  \\\n",
       "0              64.0  256.0          Intel Core i3 Processor   \n",
       "1              64.0  512.0          Intel Core i3 Processor   \n",
       "2              64.0  512.0          Intel Core i3 Processor   \n",
       "3              64.0  512.0  AMD Ryzen 5 Hexa Core Processor   \n",
       "4              64.0  512.0          Intel Core i5 Processor   \n",
       "\n",
       "                 Display  \n",
       "0    35.56 cm (14 inch)   \n",
       "1  39.62 cm (15.6 inch)   \n",
       "2  39.62 cm (15.6 inch)   \n",
       "3  39.62 cm (15.6 inch)   \n",
       "4  39.62 cm (15.6 inch)   "
      ]
     },
     "execution_count": 113,
     "metadata": {},
     "output_type": "execute_result"
    }
   ],
   "source": [
    "df.head()"
   ]
  },
  {
   "cell_type": "code",
   "execution_count": 115,
   "id": "ab663d08",
   "metadata": {},
   "outputs": [],
   "source": [
    "df['Processor']=encoder.fit_transform(df['Processor'])"
   ]
  },
  {
   "cell_type": "code",
   "execution_count": 118,
   "id": "bcd79012",
   "metadata": {},
   "outputs": [],
   "source": [
    "df['Processor'].fillna(value=df['Processor'].median(),inplace=True)"
   ]
  },
  {
   "cell_type": "code",
   "execution_count": 119,
   "id": "f8dc7603",
   "metadata": {},
   "outputs": [
    {
     "data": {
      "text/plain": [
       "Product               0\n",
       "Rating                0\n",
       "MRP                   0\n",
       "RAM                   0\n",
       "Operating System      0\n",
       "SSD                   0\n",
       "Processor             0\n",
       "Display             195\n",
       "dtype: int64"
      ]
     },
     "execution_count": 119,
     "metadata": {},
     "output_type": "execute_result"
    }
   ],
   "source": [
    "df.isnull().sum()"
   ]
  },
  {
   "cell_type": "code",
   "execution_count": 122,
   "id": "ab13f092",
   "metadata": {},
   "outputs": [],
   "source": [
    "df['Product']=df['Product'].str.split(' ').str.slice(0,3).str.join(' ')"
   ]
  },
  {
   "cell_type": "code",
   "execution_count": 126,
   "id": "0073336e",
   "metadata": {},
   "outputs": [],
   "source": [
    "df.dropna(inplace=True)"
   ]
  },
  {
   "cell_type": "code",
   "execution_count": 127,
   "id": "aace2d44",
   "metadata": {},
   "outputs": [],
   "source": [
    "from sklearn.model_selection import train_test_split"
   ]
  },
  {
   "cell_type": "code",
   "execution_count": 128,
   "id": "aa2a4ed4",
   "metadata": {},
   "outputs": [],
   "source": [
    "from sklearn.linear_model import LinearRegression"
   ]
  },
  {
   "cell_type": "code",
   "execution_count": 129,
   "id": "03cc4708",
   "metadata": {},
   "outputs": [],
   "source": [
    "from sklearn.preprocessing import OneHotEncoder\n",
    "from sklearn.compose import make_column_transformer\n",
    "from sklearn.pipeline import make_pipeline"
   ]
  },
  {
   "cell_type": "code",
   "execution_count": 130,
   "id": "3060277f",
   "metadata": {},
   "outputs": [],
   "source": [
    "oge=OneHotEncoder()"
   ]
  },
  {
   "cell_type": "code",
   "execution_count": 131,
   "id": "f1b68bfa",
   "metadata": {},
   "outputs": [],
   "source": [
    "X=df.drop('Rating',axis=1)\n",
    "y=df['MRP']\n",
    "X_train, X_test, y_train, y_test = train_test_split(X, y, test_size=0.30, random_state=101)"
   ]
  },
  {
   "cell_type": "code",
   "execution_count": 132,
   "id": "7c0d2e7d",
   "metadata": {},
   "outputs": [
    {
     "data": {
      "text/html": [
       "<style>#sk-container-id-1 {color: black;background-color: white;}#sk-container-id-1 pre{padding: 0;}#sk-container-id-1 div.sk-toggleable {background-color: white;}#sk-container-id-1 label.sk-toggleable__label {cursor: pointer;display: block;width: 100%;margin-bottom: 0;padding: 0.3em;box-sizing: border-box;text-align: center;}#sk-container-id-1 label.sk-toggleable__label-arrow:before {content: \"▸\";float: left;margin-right: 0.25em;color: #696969;}#sk-container-id-1 label.sk-toggleable__label-arrow:hover:before {color: black;}#sk-container-id-1 div.sk-estimator:hover label.sk-toggleable__label-arrow:before {color: black;}#sk-container-id-1 div.sk-toggleable__content {max-height: 0;max-width: 0;overflow: hidden;text-align: left;background-color: #f0f8ff;}#sk-container-id-1 div.sk-toggleable__content pre {margin: 0.2em;color: black;border-radius: 0.25em;background-color: #f0f8ff;}#sk-container-id-1 input.sk-toggleable__control:checked~div.sk-toggleable__content {max-height: 200px;max-width: 100%;overflow: auto;}#sk-container-id-1 input.sk-toggleable__control:checked~label.sk-toggleable__label-arrow:before {content: \"▾\";}#sk-container-id-1 div.sk-estimator input.sk-toggleable__control:checked~label.sk-toggleable__label {background-color: #d4ebff;}#sk-container-id-1 div.sk-label input.sk-toggleable__control:checked~label.sk-toggleable__label {background-color: #d4ebff;}#sk-container-id-1 input.sk-hidden--visually {border: 0;clip: rect(1px 1px 1px 1px);clip: rect(1px, 1px, 1px, 1px);height: 1px;margin: -1px;overflow: hidden;padding: 0;position: absolute;width: 1px;}#sk-container-id-1 div.sk-estimator {font-family: monospace;background-color: #f0f8ff;border: 1px dotted black;border-radius: 0.25em;box-sizing: border-box;margin-bottom: 0.5em;}#sk-container-id-1 div.sk-estimator:hover {background-color: #d4ebff;}#sk-container-id-1 div.sk-parallel-item::after {content: \"\";width: 100%;border-bottom: 1px solid gray;flex-grow: 1;}#sk-container-id-1 div.sk-label:hover label.sk-toggleable__label {background-color: #d4ebff;}#sk-container-id-1 div.sk-serial::before {content: \"\";position: absolute;border-left: 1px solid gray;box-sizing: border-box;top: 0;bottom: 0;left: 50%;z-index: 0;}#sk-container-id-1 div.sk-serial {display: flex;flex-direction: column;align-items: center;background-color: white;padding-right: 0.2em;padding-left: 0.2em;position: relative;}#sk-container-id-1 div.sk-item {position: relative;z-index: 1;}#sk-container-id-1 div.sk-parallel {display: flex;align-items: stretch;justify-content: center;background-color: white;position: relative;}#sk-container-id-1 div.sk-item::before, #sk-container-id-1 div.sk-parallel-item::before {content: \"\";position: absolute;border-left: 1px solid gray;box-sizing: border-box;top: 0;bottom: 0;left: 50%;z-index: -1;}#sk-container-id-1 div.sk-parallel-item {display: flex;flex-direction: column;z-index: 1;position: relative;background-color: white;}#sk-container-id-1 div.sk-parallel-item:first-child::after {align-self: flex-end;width: 50%;}#sk-container-id-1 div.sk-parallel-item:last-child::after {align-self: flex-start;width: 50%;}#sk-container-id-1 div.sk-parallel-item:only-child::after {width: 0;}#sk-container-id-1 div.sk-dashed-wrapped {border: 1px dashed gray;margin: 0 0.4em 0.5em 0.4em;box-sizing: border-box;padding-bottom: 0.4em;background-color: white;}#sk-container-id-1 div.sk-label label {font-family: monospace;font-weight: bold;display: inline-block;line-height: 1.2em;}#sk-container-id-1 div.sk-label-container {text-align: center;}#sk-container-id-1 div.sk-container {/* jupyter's `normalize.less` sets `[hidden] { display: none; }` but bootstrap.min.css set `[hidden] { display: none !important; }` so we also need the `!important` here to be able to override the default hidden behavior on the sphinx rendered scikit-learn.org. See: https://github.com/scikit-learn/scikit-learn/issues/21755 */display: inline-block !important;position: relative;}#sk-container-id-1 div.sk-text-repr-fallback {display: none;}</style><div id=\"sk-container-id-1\" class=\"sk-top-container\"><div class=\"sk-text-repr-fallback\"><pre>OneHotEncoder()</pre><b>In a Jupyter environment, please rerun this cell to show the HTML representation or trust the notebook. <br />On GitHub, the HTML representation is unable to render, please try loading this page with nbviewer.org.</b></div><div class=\"sk-container\" hidden><div class=\"sk-item\"><div class=\"sk-estimator sk-toggleable\"><input class=\"sk-toggleable__control sk-hidden--visually\" id=\"sk-estimator-id-1\" type=\"checkbox\" checked><label for=\"sk-estimator-id-1\" class=\"sk-toggleable__label sk-toggleable__label-arrow\">OneHotEncoder</label><div class=\"sk-toggleable__content\"><pre>OneHotEncoder()</pre></div></div></div></div></div>"
      ],
      "text/plain": [
       "OneHotEncoder()"
      ]
     },
     "execution_count": 132,
     "metadata": {},
     "output_type": "execute_result"
    }
   ],
   "source": [
    "oge.fit(X[['Product','Processor','Display']])"
   ]
  },
  {
   "cell_type": "code",
   "execution_count": 137,
   "id": "6d796691",
   "metadata": {},
   "outputs": [],
   "source": [
    "column_trans=make_column_transformer((OneHotEncoder(categories=oge.categories_),['Product','Processor','Display']),\n",
    "                                    remainder='passthrough')"
   ]
  },
  {
   "cell_type": "code",
   "execution_count": 138,
   "id": "42b9927d",
   "metadata": {},
   "outputs": [],
   "source": [
    "lr=LinearRegression()"
   ]
  },
  {
   "cell_type": "code",
   "execution_count": 139,
   "id": "267a8da9",
   "metadata": {},
   "outputs": [],
   "source": [
    "pipe=make_pipeline(column_trans,lr)"
   ]
  },
  {
   "cell_type": "code",
   "execution_count": 140,
   "id": "91c23c8d",
   "metadata": {},
   "outputs": [
    {
     "data": {
      "text/html": [
       "<style>#sk-container-id-3 {color: black;background-color: white;}#sk-container-id-3 pre{padding: 0;}#sk-container-id-3 div.sk-toggleable {background-color: white;}#sk-container-id-3 label.sk-toggleable__label {cursor: pointer;display: block;width: 100%;margin-bottom: 0;padding: 0.3em;box-sizing: border-box;text-align: center;}#sk-container-id-3 label.sk-toggleable__label-arrow:before {content: \"▸\";float: left;margin-right: 0.25em;color: #696969;}#sk-container-id-3 label.sk-toggleable__label-arrow:hover:before {color: black;}#sk-container-id-3 div.sk-estimator:hover label.sk-toggleable__label-arrow:before {color: black;}#sk-container-id-3 div.sk-toggleable__content {max-height: 0;max-width: 0;overflow: hidden;text-align: left;background-color: #f0f8ff;}#sk-container-id-3 div.sk-toggleable__content pre {margin: 0.2em;color: black;border-radius: 0.25em;background-color: #f0f8ff;}#sk-container-id-3 input.sk-toggleable__control:checked~div.sk-toggleable__content {max-height: 200px;max-width: 100%;overflow: auto;}#sk-container-id-3 input.sk-toggleable__control:checked~label.sk-toggleable__label-arrow:before {content: \"▾\";}#sk-container-id-3 div.sk-estimator input.sk-toggleable__control:checked~label.sk-toggleable__label {background-color: #d4ebff;}#sk-container-id-3 div.sk-label input.sk-toggleable__control:checked~label.sk-toggleable__label {background-color: #d4ebff;}#sk-container-id-3 input.sk-hidden--visually {border: 0;clip: rect(1px 1px 1px 1px);clip: rect(1px, 1px, 1px, 1px);height: 1px;margin: -1px;overflow: hidden;padding: 0;position: absolute;width: 1px;}#sk-container-id-3 div.sk-estimator {font-family: monospace;background-color: #f0f8ff;border: 1px dotted black;border-radius: 0.25em;box-sizing: border-box;margin-bottom: 0.5em;}#sk-container-id-3 div.sk-estimator:hover {background-color: #d4ebff;}#sk-container-id-3 div.sk-parallel-item::after {content: \"\";width: 100%;border-bottom: 1px solid gray;flex-grow: 1;}#sk-container-id-3 div.sk-label:hover label.sk-toggleable__label {background-color: #d4ebff;}#sk-container-id-3 div.sk-serial::before {content: \"\";position: absolute;border-left: 1px solid gray;box-sizing: border-box;top: 0;bottom: 0;left: 50%;z-index: 0;}#sk-container-id-3 div.sk-serial {display: flex;flex-direction: column;align-items: center;background-color: white;padding-right: 0.2em;padding-left: 0.2em;position: relative;}#sk-container-id-3 div.sk-item {position: relative;z-index: 1;}#sk-container-id-3 div.sk-parallel {display: flex;align-items: stretch;justify-content: center;background-color: white;position: relative;}#sk-container-id-3 div.sk-item::before, #sk-container-id-3 div.sk-parallel-item::before {content: \"\";position: absolute;border-left: 1px solid gray;box-sizing: border-box;top: 0;bottom: 0;left: 50%;z-index: -1;}#sk-container-id-3 div.sk-parallel-item {display: flex;flex-direction: column;z-index: 1;position: relative;background-color: white;}#sk-container-id-3 div.sk-parallel-item:first-child::after {align-self: flex-end;width: 50%;}#sk-container-id-3 div.sk-parallel-item:last-child::after {align-self: flex-start;width: 50%;}#sk-container-id-3 div.sk-parallel-item:only-child::after {width: 0;}#sk-container-id-3 div.sk-dashed-wrapped {border: 1px dashed gray;margin: 0 0.4em 0.5em 0.4em;box-sizing: border-box;padding-bottom: 0.4em;background-color: white;}#sk-container-id-3 div.sk-label label {font-family: monospace;font-weight: bold;display: inline-block;line-height: 1.2em;}#sk-container-id-3 div.sk-label-container {text-align: center;}#sk-container-id-3 div.sk-container {/* jupyter's `normalize.less` sets `[hidden] { display: none; }` but bootstrap.min.css set `[hidden] { display: none !important; }` so we also need the `!important` here to be able to override the default hidden behavior on the sphinx rendered scikit-learn.org. See: https://github.com/scikit-learn/scikit-learn/issues/21755 */display: inline-block !important;position: relative;}#sk-container-id-3 div.sk-text-repr-fallback {display: none;}</style><div id=\"sk-container-id-3\" class=\"sk-top-container\"><div class=\"sk-text-repr-fallback\"><pre>Pipeline(steps=[(&#x27;columntransformer&#x27;,\n",
       "                 ColumnTransformer(remainder=&#x27;passthrough&#x27;,\n",
       "                                   transformers=[(&#x27;onehotencoder&#x27;,\n",
       "                                                  OneHotEncoder(categories=[array([&#x27;ALIENWARE Core i7&#x27;, &#x27;ALIENWARE Core i9&#x27;, &#x27;APPLE 2020 Macbook&#x27;,\n",
       "       &#x27;APPLE 2021 Macbook&#x27;, &#x27;APPLE MacBook Air&#x27;, &#x27;APPLE MacBook Pro&#x27;,\n",
       "       &#x27;ASUS (2022) Celeron&#x27;, &#x27;ASUS ASUS TUF&#x27;, &#x27;ASUS Chromebook Celeron&#x27;,\n",
       "       &#x27;ASUS Chromebook Flip&#x27;, &#x27;ASUS Core i3&#x27;, &#x27;ASUS...\n",
       "       &#x27;33.78 cm (13.3 inch) &#x27;, &#x27;34.29 cm (13.5 inch) &#x27;,\n",
       "       &#x27;35.56 cm (14 inch) &#x27;, &#x27;35.81 cm (14.1 inch) &#x27;,\n",
       "       &#x27;36.07 cm (14.2 inch) &#x27;, &#x27;38.1 cm (15 inch) &#x27;,\n",
       "       &#x27;39.62 cm (15.6 inch) &#x27;, &#x27;40.64 cm (16 inch) &#x27;,\n",
       "       &#x27;40.89 cm (16.1 inch) &#x27;, &#x27;41.15 cm (16.2 inch) &#x27;,\n",
       "       &#x27;42.16 cm (16.6 inch) &#x27;, &#x27;43.94 cm (17.3 inch) &#x27;, &#x27;Matrix &#x27;,\n",
       "       &#x27;Touchscreen &#x27;, &#x27;WVA &#x27;], dtype=object)]),\n",
       "                                                  [&#x27;Product&#x27;, &#x27;Processor&#x27;,\n",
       "                                                   &#x27;Display&#x27;])])),\n",
       "                (&#x27;linearregression&#x27;, LinearRegression())])</pre><b>In a Jupyter environment, please rerun this cell to show the HTML representation or trust the notebook. <br />On GitHub, the HTML representation is unable to render, please try loading this page with nbviewer.org.</b></div><div class=\"sk-container\" hidden><div class=\"sk-item sk-dashed-wrapped\"><div class=\"sk-label-container\"><div class=\"sk-label sk-toggleable\"><input class=\"sk-toggleable__control sk-hidden--visually\" id=\"sk-estimator-id-9\" type=\"checkbox\" ><label for=\"sk-estimator-id-9\" class=\"sk-toggleable__label sk-toggleable__label-arrow\">Pipeline</label><div class=\"sk-toggleable__content\"><pre>Pipeline(steps=[(&#x27;columntransformer&#x27;,\n",
       "                 ColumnTransformer(remainder=&#x27;passthrough&#x27;,\n",
       "                                   transformers=[(&#x27;onehotencoder&#x27;,\n",
       "                                                  OneHotEncoder(categories=[array([&#x27;ALIENWARE Core i7&#x27;, &#x27;ALIENWARE Core i9&#x27;, &#x27;APPLE 2020 Macbook&#x27;,\n",
       "       &#x27;APPLE 2021 Macbook&#x27;, &#x27;APPLE MacBook Air&#x27;, &#x27;APPLE MacBook Pro&#x27;,\n",
       "       &#x27;ASUS (2022) Celeron&#x27;, &#x27;ASUS ASUS TUF&#x27;, &#x27;ASUS Chromebook Celeron&#x27;,\n",
       "       &#x27;ASUS Chromebook Flip&#x27;, &#x27;ASUS Core i3&#x27;, &#x27;ASUS...\n",
       "       &#x27;33.78 cm (13.3 inch) &#x27;, &#x27;34.29 cm (13.5 inch) &#x27;,\n",
       "       &#x27;35.56 cm (14 inch) &#x27;, &#x27;35.81 cm (14.1 inch) &#x27;,\n",
       "       &#x27;36.07 cm (14.2 inch) &#x27;, &#x27;38.1 cm (15 inch) &#x27;,\n",
       "       &#x27;39.62 cm (15.6 inch) &#x27;, &#x27;40.64 cm (16 inch) &#x27;,\n",
       "       &#x27;40.89 cm (16.1 inch) &#x27;, &#x27;41.15 cm (16.2 inch) &#x27;,\n",
       "       &#x27;42.16 cm (16.6 inch) &#x27;, &#x27;43.94 cm (17.3 inch) &#x27;, &#x27;Matrix &#x27;,\n",
       "       &#x27;Touchscreen &#x27;, &#x27;WVA &#x27;], dtype=object)]),\n",
       "                                                  [&#x27;Product&#x27;, &#x27;Processor&#x27;,\n",
       "                                                   &#x27;Display&#x27;])])),\n",
       "                (&#x27;linearregression&#x27;, LinearRegression())])</pre></div></div></div><div class=\"sk-serial\"><div class=\"sk-item sk-dashed-wrapped\"><div class=\"sk-label-container\"><div class=\"sk-label sk-toggleable\"><input class=\"sk-toggleable__control sk-hidden--visually\" id=\"sk-estimator-id-10\" type=\"checkbox\" ><label for=\"sk-estimator-id-10\" class=\"sk-toggleable__label sk-toggleable__label-arrow\">columntransformer: ColumnTransformer</label><div class=\"sk-toggleable__content\"><pre>ColumnTransformer(remainder=&#x27;passthrough&#x27;,\n",
       "                  transformers=[(&#x27;onehotencoder&#x27;,\n",
       "                                 OneHotEncoder(categories=[array([&#x27;ALIENWARE Core i7&#x27;, &#x27;ALIENWARE Core i9&#x27;, &#x27;APPLE 2020 Macbook&#x27;,\n",
       "       &#x27;APPLE 2021 Macbook&#x27;, &#x27;APPLE MacBook Air&#x27;, &#x27;APPLE MacBook Pro&#x27;,\n",
       "       &#x27;ASUS (2022) Celeron&#x27;, &#x27;ASUS ASUS TUF&#x27;, &#x27;ASUS Chromebook Celeron&#x27;,\n",
       "       &#x27;ASUS Chromebook Flip&#x27;, &#x27;ASUS Core i3&#x27;, &#x27;ASUS Core i5&#x27;,\n",
       "       &#x27;ASUS Core i7&#x27;, &#x27;ASUS ExpertBook B...\n",
       "                                                           array([&#x27;29.46 cm (11.6 inch) &#x27;, &#x27;33.02 cm (13 inch) &#x27;,\n",
       "       &#x27;33.78 cm (13.3 inch) &#x27;, &#x27;34.29 cm (13.5 inch) &#x27;,\n",
       "       &#x27;35.56 cm (14 inch) &#x27;, &#x27;35.81 cm (14.1 inch) &#x27;,\n",
       "       &#x27;36.07 cm (14.2 inch) &#x27;, &#x27;38.1 cm (15 inch) &#x27;,\n",
       "       &#x27;39.62 cm (15.6 inch) &#x27;, &#x27;40.64 cm (16 inch) &#x27;,\n",
       "       &#x27;40.89 cm (16.1 inch) &#x27;, &#x27;41.15 cm (16.2 inch) &#x27;,\n",
       "       &#x27;42.16 cm (16.6 inch) &#x27;, &#x27;43.94 cm (17.3 inch) &#x27;, &#x27;Matrix &#x27;,\n",
       "       &#x27;Touchscreen &#x27;, &#x27;WVA &#x27;], dtype=object)]),\n",
       "                                 [&#x27;Product&#x27;, &#x27;Processor&#x27;, &#x27;Display&#x27;])])</pre></div></div></div><div class=\"sk-parallel\"><div class=\"sk-parallel-item\"><div class=\"sk-item\"><div class=\"sk-label-container\"><div class=\"sk-label sk-toggleable\"><input class=\"sk-toggleable__control sk-hidden--visually\" id=\"sk-estimator-id-11\" type=\"checkbox\" ><label for=\"sk-estimator-id-11\" class=\"sk-toggleable__label sk-toggleable__label-arrow\">onehotencoder</label><div class=\"sk-toggleable__content\"><pre>[&#x27;Product&#x27;, &#x27;Processor&#x27;, &#x27;Display&#x27;]</pre></div></div></div><div class=\"sk-serial\"><div class=\"sk-item\"><div class=\"sk-estimator sk-toggleable\"><input class=\"sk-toggleable__control sk-hidden--visually\" id=\"sk-estimator-id-12\" type=\"checkbox\" ><label for=\"sk-estimator-id-12\" class=\"sk-toggleable__label sk-toggleable__label-arrow\">OneHotEncoder</label><div class=\"sk-toggleable__content\"><pre>OneHotEncoder(categories=[array([&#x27;ALIENWARE Core i7&#x27;, &#x27;ALIENWARE Core i9&#x27;, &#x27;APPLE 2020 Macbook&#x27;,\n",
       "       &#x27;APPLE 2021 Macbook&#x27;, &#x27;APPLE MacBook Air&#x27;, &#x27;APPLE MacBook Pro&#x27;,\n",
       "       &#x27;ASUS (2022) Celeron&#x27;, &#x27;ASUS ASUS TUF&#x27;, &#x27;ASUS Chromebook Celeron&#x27;,\n",
       "       &#x27;ASUS Chromebook Flip&#x27;, &#x27;ASUS Core i3&#x27;, &#x27;ASUS Core i5&#x27;,\n",
       "       &#x27;ASUS Core i7&#x27;, &#x27;ASUS ExpertBook B9&#x27;, &#x27;ASUS ExpertBook Core&#x27;,\n",
       "       &#x27;ASUS ExpertBook P1&#x27;, &#x27;ASUS ExpertBook P2&#x27;, &#x27;ASUS ROG Flo...\n",
       "                          array([ 0,  1,  2,  3,  4,  5,  6,  7,  8,  9, 10, 11, 12, 13, 14, 15, 16,\n",
       "       17, 18, 19, 20, 21]),\n",
       "                          array([&#x27;29.46 cm (11.6 inch) &#x27;, &#x27;33.02 cm (13 inch) &#x27;,\n",
       "       &#x27;33.78 cm (13.3 inch) &#x27;, &#x27;34.29 cm (13.5 inch) &#x27;,\n",
       "       &#x27;35.56 cm (14 inch) &#x27;, &#x27;35.81 cm (14.1 inch) &#x27;,\n",
       "       &#x27;36.07 cm (14.2 inch) &#x27;, &#x27;38.1 cm (15 inch) &#x27;,\n",
       "       &#x27;39.62 cm (15.6 inch) &#x27;, &#x27;40.64 cm (16 inch) &#x27;,\n",
       "       &#x27;40.89 cm (16.1 inch) &#x27;, &#x27;41.15 cm (16.2 inch) &#x27;,\n",
       "       &#x27;42.16 cm (16.6 inch) &#x27;, &#x27;43.94 cm (17.3 inch) &#x27;, &#x27;Matrix &#x27;,\n",
       "       &#x27;Touchscreen &#x27;, &#x27;WVA &#x27;], dtype=object)])</pre></div></div></div></div></div></div><div class=\"sk-parallel-item\"><div class=\"sk-item\"><div class=\"sk-label-container\"><div class=\"sk-label sk-toggleable\"><input class=\"sk-toggleable__control sk-hidden--visually\" id=\"sk-estimator-id-13\" type=\"checkbox\" ><label for=\"sk-estimator-id-13\" class=\"sk-toggleable__label sk-toggleable__label-arrow\">remainder</label><div class=\"sk-toggleable__content\"><pre>[&#x27;MRP&#x27;, &#x27;RAM&#x27;, &#x27;Operating System&#x27;, &#x27;SSD&#x27;]</pre></div></div></div><div class=\"sk-serial\"><div class=\"sk-item\"><div class=\"sk-estimator sk-toggleable\"><input class=\"sk-toggleable__control sk-hidden--visually\" id=\"sk-estimator-id-14\" type=\"checkbox\" ><label for=\"sk-estimator-id-14\" class=\"sk-toggleable__label sk-toggleable__label-arrow\">passthrough</label><div class=\"sk-toggleable__content\"><pre>passthrough</pre></div></div></div></div></div></div></div></div><div class=\"sk-item\"><div class=\"sk-estimator sk-toggleable\"><input class=\"sk-toggleable__control sk-hidden--visually\" id=\"sk-estimator-id-15\" type=\"checkbox\" ><label for=\"sk-estimator-id-15\" class=\"sk-toggleable__label sk-toggleable__label-arrow\">LinearRegression</label><div class=\"sk-toggleable__content\"><pre>LinearRegression()</pre></div></div></div></div></div></div></div>"
      ],
      "text/plain": [
       "Pipeline(steps=[('columntransformer',\n",
       "                 ColumnTransformer(remainder='passthrough',\n",
       "                                   transformers=[('onehotencoder',\n",
       "                                                  OneHotEncoder(categories=[array(['ALIENWARE Core i7', 'ALIENWARE Core i9', 'APPLE 2020 Macbook',\n",
       "       'APPLE 2021 Macbook', 'APPLE MacBook Air', 'APPLE MacBook Pro',\n",
       "       'ASUS (2022) Celeron', 'ASUS ASUS TUF', 'ASUS Chromebook Celeron',\n",
       "       'ASUS Chromebook Flip', 'ASUS Core i3', 'ASUS...\n",
       "       '33.78 cm (13.3 inch) ', '34.29 cm (13.5 inch) ',\n",
       "       '35.56 cm (14 inch) ', '35.81 cm (14.1 inch) ',\n",
       "       '36.07 cm (14.2 inch) ', '38.1 cm (15 inch) ',\n",
       "       '39.62 cm (15.6 inch) ', '40.64 cm (16 inch) ',\n",
       "       '40.89 cm (16.1 inch) ', '41.15 cm (16.2 inch) ',\n",
       "       '42.16 cm (16.6 inch) ', '43.94 cm (17.3 inch) ', 'Matrix ',\n",
       "       'Touchscreen ', 'WVA '], dtype=object)]),\n",
       "                                                  ['Product', 'Processor',\n",
       "                                                   'Display'])])),\n",
       "                ('linearregression', LinearRegression())])"
      ]
     },
     "execution_count": 140,
     "metadata": {},
     "output_type": "execute_result"
    }
   ],
   "source": [
    "pipe.fit(X_train,y_train)"
   ]
  },
  {
   "cell_type": "code",
   "execution_count": 141,
   "id": "f6629de0",
   "metadata": {},
   "outputs": [],
   "source": [
    "pred=pipe.predict(X_test)"
   ]
  },
  {
   "cell_type": "code",
   "execution_count": 142,
   "id": "402d60cd",
   "metadata": {},
   "outputs": [
    {
     "data": {
      "text/plain": [
       "<matplotlib.collections.PathCollection at 0x1988f8479d0>"
      ]
     },
     "execution_count": 142,
     "metadata": {},
     "output_type": "execute_result"
    },
    {
     "data": {
      "image/png": "[encoded data removed]",
      "text/plain": [
       "<Figure size 640x480 with 1 Axes>"
      ]
     },
     "metadata": {},
     "output_type": "display_data"
    }
   ],
   "source": [
    "plt.scatter(y_test,pred)"
   ]
  },
  {
   "cell_type": "code",
   "execution_count": 143,
   "id": "75e6fdd5",
   "metadata": {},
   "outputs": [
    {
     "data": {
      "text/plain": [
       "<seaborn.axisgrid.FacetGrid at 0x1988f5a3490>"
      ]
     },
     "execution_count": 143,
     "metadata": {},
     "output_type": "execute_result"
    },
    {
     "data": {
      "image/png": "[encoded data removed]",
      "text/plain": [
       "<Figure size 580.25x500 with 1 Axes>"
      ]
     },
     "metadata": {},
     "output_type": "display_data"
    }
   ],
   "source": [
    "sns.displot((y_test,pred),bins=50)"
   ]
  },
  {
   "cell_type": "code",
   "execution_count": 145,
   "id": "329abcaf",
   "metadata": {},
   "outputs": [],
   "source": [
    "from sklearn import metrics"
   ]
  },
  {
   "cell_type": "code",
   "execution_count": 146,
   "id": "99b61935",
   "metadata": {},
   "outputs": [
    {
     "name": "stdout",
     "output_type": "stream",
     "text": [
      "MAE 0.059584753767991015\n"
     ]
    }
   ],
   "source": [
    "print('MAE',metrics.mean_absolute_error(y_test,pred))"
   ]
  },
  {
   "cell_type": "code",
   "execution_count": 147,
   "id": "905d8bc0",
   "metadata": {},
   "outputs": [
    {
     "name": "stdout",
     "output_type": "stream",
     "text": [
      "MSE 0.00507082746550438\n"
     ]
    }
   ],
   "source": [
    "print('MSE',metrics.mean_squared_error(y_test,pred))"
   ]
  },
  {
   "cell_type": "code",
   "execution_count": 148,
   "id": "f2411610",
   "metadata": {},
   "outputs": [
    {
     "name": "stdout",
     "output_type": "stream",
     "text": [
      "RMSE 0.07120974277094659\n"
     ]
    }
   ],
   "source": [
    "print('RMSE',np.sqrt(metrics.mean_squared_error(y_test,pred)))"
   ]
  },
  {
   "cell_type": "code",
   "execution_count": null,
   "id": "7f042216",
   "metadata": {},
   "outputs": [],
   "source": []
  }
 ],
 "metadata": {
  "kernelspec": {
   "display_name": "Python 3 (ipykernel)",
   "language": "python",
   "name": "python3"
  },
  "language_info": {
   "codemirror_mode": {
    "name": "ipython",
    "version": 3
   },
   "file_extension": ".py",
   "mimetype": "text/x-python",
   "name": "python",
   "nbconvert_exporter": "python",
   "pygments_lexer": "ipython3",
   "version": "3.9.13"
  }
 },
 "nbformat": 4,
 "nbformat_minor": 5
}
